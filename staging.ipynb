{
 "cells": [
  {
   "metadata": {},
   "cell_type": "markdown",
   "source": [
    "## Add tables in this order:\n",
    "1. customer_state_dim (x)\n",
    "2. order-quarter-dim\n",
    "3. order-year-dim\n",
    "4. order-month-dim\n",
    "5. product_category_dim (x)\n",
    "6. store_dim (x)\n",
    "7. product_dim\n",
    "8. customer_dim (x)\n",
    "9. order-date_dim\n",
    "10. sales_facts"
   ],
   "id": "d7250d7501ac0426"
  }
 ],
 "metadata": {},
 "nbformat": 4,
 "nbformat_minor": 5
}
