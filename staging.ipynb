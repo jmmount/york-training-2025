{
 "cells": [
  {
   "metadata": {},
   "cell_type": "markdown",
   "source": [
    "## Add tables in this order:\n",
    "2. order-quarter-dim (x)\n",
    "3. order-month-dim (x)\n",
    "4. product_category_dim (x)\n",
    "5. store_dim (x)\n",
    "6. product_dim (x)\n",
    "7. customer_dim (x)\n",
    "8. order-date_dim (x)\n",
    "9. sales_facts"
   ],
   "id": "d7250d7501ac0426"
  }
 ],
 "metadata": {},
 "nbformat": 4,
 "nbformat_minor": 5
}
