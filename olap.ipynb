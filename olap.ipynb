{
 "cells": [
  {
   "metadata": {},
   "cell_type": "markdown",
   "source": "#### In order to convert the csv files to DataFrames",
   "id": "4dcb6bba1f384bdf"
  },
  {
   "metadata": {},
   "cell_type": "code",
   "source": [
    "import pandas as pd\n",
    "import numpy as np\n",
    "\n",
    "customers_df = pd.read_csv('./data/raw/customers.csv')\n",
    "customers_df.head(5)"
   ],
   "id": "3e70940137f8514b",
   "outputs": [],
   "execution_count": null
  },
  {
   "metadata": {},
   "cell_type": "code",
   "source": [
    "orders_df = pd.read_csv('./data/raw/orders.csv')\n",
    "orders_df.head(5)"
   ],
   "id": "e8cf917d8a04b8ca",
   "outputs": [],
   "execution_count": null
  },
  {
   "metadata": {},
   "cell_type": "code",
   "source": [
    "products_df = pd.read_csv('./data/raw/products.csv')\n",
    "products_df.head(5)"
   ],
   "id": "a7242a1508c193cb",
   "outputs": [],
   "execution_count": null
  },
  {
   "metadata": {},
   "cell_type": "markdown",
   "source": "#### In order to clean the null values from the customers table",
   "id": "e2c0bef525aae969"
  },
  {
   "metadata": {},
   "cell_type": "code",
   "source": [
    "# In order to confirm NULL values\n",
    "print(customers_df[customers_df['name'].isna()])"
   ],
   "id": "bd9140cd86cdcd78",
   "outputs": [],
   "execution_count": null
  },
  {
   "metadata": {},
   "cell_type": "code",
   "source": [
    "# In order to replace NULL values in the name column\n",
    "customers_df['name'] = np.where(customers_df['name'].isna(), 'Guest', customers_df['name'])"
   ],
   "id": "74871f9d35fc51a0",
   "outputs": [],
   "execution_count": null
  },
  {
   "metadata": {},
   "cell_type": "code",
   "source": [
    "# In order to check that the data was transformed\n",
    "guest_check = customers_df[customers_df['name'] == 'Guest']\n",
    "guest_check"
   ],
   "id": "3cf95a8ab68e2b54",
   "outputs": [],
   "execution_count": null
  },
  {
   "metadata": {},
   "cell_type": "code",
   "source": [
    "# In order to confirm NULL values\n",
    "print(customers_df[customers_df['email'].isna()])"
   ],
   "id": "60ba4ae85889bac9",
   "outputs": [],
   "execution_count": null
  },
  {
   "metadata": {},
   "cell_type": "code",
   "source": [
    "# In order to replace NULL values in the email column\n",
    "customers_df['email'] = np.where(customers_df['email'].isna(), 'none_provided', customers_df['email'])\n",
    "provision_check = customers_df[customers_df['email'] == 'none_provided']\n",
    "provision_check"
   ],
   "id": "5726a8e76bd59120",
   "outputs": [],
   "execution_count": null
  },
  {
   "metadata": {},
   "cell_type": "markdown",
   "source": "#### In order to clean the bad dates from the order table",
   "id": "d4de2ee71e5cbb5b"
  },
  {
   "metadata": {},
   "cell_type": "code",
   "source": [
    "# In order to check non-date values in 'order_date'\n",
    "convert = pd.to_datetime(orders_df['order_date'], errors='coerce')\n",
    "bad_dates = orders_df[convert.isna()]\n",
    "bad_dates"
   ],
   "id": "200fc2b122170935",
   "outputs": [],
   "execution_count": null
  },
  {
   "metadata": {},
   "cell_type": "code",
   "source": [
    "# In order to replace 'not_a_date\" and integer values and convert them to datetime\n",
    "orders_df['order_date'] = orders_df['order_date'].replace('not_a_date', '1900-01-01')\n",
    "orders_df['order_date'] = orders_df['order_date'].replace(20002, '2002-01-01')\n",
    "orders_df['order_date'] = pd.to_datetime(orders_df['order_date'], errors='coerce')\n",
    "\n",
    "null_check = orders_df['order_date'].isna().sum\n",
    "null_check"
   ],
   "id": "a90575f77bb816cc",
   "outputs": [],
   "execution_count": null
  },
  {
   "metadata": {},
   "cell_type": "markdown",
   "source": "#### In order to create the 8 dimension tables",
   "id": "ef090e605d4caf0b"
  },
  {
   "metadata": {},
   "cell_type": "code",
   "source": "products_df",
   "id": "3ccff1bdf47e6b93",
   "outputs": [],
   "execution_count": null
  },
  {
   "metadata": {},
   "cell_type": "code",
   "source": [
    "# 1. customer_dim\n",
    "customers_df"
   ],
   "id": "775be1ee82801ced",
   "outputs": [],
   "execution_count": null
  },
  {
   "metadata": {},
   "cell_type": "code",
   "source": [
    "# 2. product_category_dim\n",
    "product_cat_df = pd.DataFrame({'product_category': products_df['product_category'].drop_duplicates()})\n",
    "product_cat_df"
   ],
   "id": "c730878c69c0641d",
   "outputs": [],
   "execution_count": null
  },
  {
   "metadata": {},
   "cell_type": "code",
   "source": [
    "# 3. store_dim\n",
    "store_df = pd.DataFrame({'store_id': orders_df['store_id'].drop_duplicates()})\n",
    "store_df"
   ],
   "id": "b3f7fb977eea7462",
   "outputs": [],
   "execution_count": null
  },
  {
   "metadata": {},
   "cell_type": "code",
   "source": [
    "store_name = {1: 'nyc_store', 2: 'tampa_store', 3: 'seattle_store', 4: 'chicago_store'}\n",
    "store_region = {1: 'East', 2: 'South', 3: 'West', 4: 'Midwest'}\n",
    "\n",
    "store_df['store_name'] = store_df['store_id'].map(store_name)\n",
    "store_df['store_region'] = store_df['store_id'].map(store_region)\n",
    "store_df"
   ],
   "id": "20047e293a6f4938",
   "outputs": [],
   "execution_count": null
  },
  {
   "metadata": {},
   "cell_type": "code",
   "source": [
    "# 4. product_dim\n",
    "product_df = products_df.drop(columns=['price'])\n",
    "product_df"
   ],
   "id": "c9391d6b7da1ea6e",
   "outputs": [],
   "execution_count": null
  },
  {
   "metadata": {},
   "cell_type": "code",
   "source": [
    "# 5. order_date_dim\n",
    "order_date_df = pd.DataFrame({'order_date': pd.to_datetime(orders_df['order_date'])})\n",
    "order_date_df['order_month_id'] = order_date_df['order_date'].dt.month\n",
    "order_date_df['order_year'] = order_date_df['order_date'].dt.year\n",
    "order_date_df['order_quarter_id'] = order_date_df['order_date'].dt.quarter\n",
    "order_date_df"
   ],
   "id": "aa77b13bc278f220",
   "outputs": [],
   "execution_count": null
  },
  {
   "metadata": {},
   "cell_type": "code",
   "source": [
    "# 6. order_month_dim\n",
    "months = {1: \"January\", 2: \"February\", 3: \"March\", 4: \"April\", 5: \"May\", 6: \"June\", 7: \"July\", 8: \"August\", 9: \"September\", 10:\"October\", 11:\"November\", 12: \"December\"}\n",
    "order_month_df = pd.DataFrame({'order_month_id': order_date_df['order_month_id'].drop_duplicates()})\n",
    "order_month_df['order_month'] = order_month_df['order_month_id'].map(months)\n",
    "order_month_df"
   ],
   "id": "7c380fe28095ae4e",
   "outputs": [],
   "execution_count": null
  },
  {
   "metadata": {},
   "cell_type": "code",
   "source": [
    "# 7. order_quarters_dim\n",
    "quarters = {1: 'first_quarter', 2: 'second_quarter', 3: 'third_quarter', 4: 'fourth_quarter'}\n",
    "order_quarter_df = pd.DataFrame({'order_quarter_id': order_date_df['order_quarter_id'].drop_duplicates()})\n",
    "order_quarter_df['order_quarter'] = order_date_df['order_quarter_id'].map(quarters)\n",
    "order_quarter_df"
   ],
   "id": "2df76f2d39f56d0b",
   "outputs": [],
   "execution_count": null
  },
  {
   "metadata": {
    "ExecuteTime": {
     "end_time": "2025-10-07T19:20:39.655837Z",
     "start_time": "2025-10-07T19:20:39.643859Z"
    }
   },
   "cell_type": "code",
   "source": [
    "# 8. sales_facts_dim\n",
    "# orders_df\n",
    "product_prices_df = products_df[['product_id', 'price']]\n",
    "sales_facts_df = pd.merge(orders_df, product_prices_df, on='product_id', how='left')\n",
    "sales_facts_df"
   ],
   "id": "d76fc5bb32dae247",
   "outputs": [
    {
     "data": {
      "text/plain": [
       "     order_id  cust_id  product_id order_date  store_id  quantity  price\n",
       "0           1       52           2 1988-05-19         3         2  92.48\n",
       "1           2       70           4 1997-03-07         2         1  33.01\n",
       "2           3       30           1 1985-07-31         4         3  17.35\n",
       "3           4      475           7 2011-04-30         1         2  42.86\n",
       "4           5      409           3 1981-06-19         3         3  69.05\n",
       "..        ...      ...         ...        ...       ...       ...    ...\n",
       "995       996       45           2 2015-11-16         4         2  92.48\n",
       "996       997      409           9 2016-01-09         1         2  21.26\n",
       "997       998       40           1 1970-10-07         1         1  17.35\n",
       "998       999       87           7 2022-03-15         3         2  42.86\n",
       "999      1000      208           7 1983-03-04         4         1  42.86\n",
       "\n",
       "[1000 rows x 7 columns]"
      ],
      "text/html": [
       "<div>\n",
       "<style scoped>\n",
       "    .dataframe tbody tr th:only-of-type {\n",
       "        vertical-align: middle;\n",
       "    }\n",
       "\n",
       "    .dataframe tbody tr th {\n",
       "        vertical-align: top;\n",
       "    }\n",
       "\n",
       "    .dataframe thead th {\n",
       "        text-align: right;\n",
       "    }\n",
       "</style>\n",
       "<table border=\"1\" class=\"dataframe\">\n",
       "  <thead>\n",
       "    <tr style=\"text-align: right;\">\n",
       "      <th></th>\n",
       "      <th>order_id</th>\n",
       "      <th>cust_id</th>\n",
       "      <th>product_id</th>\n",
       "      <th>order_date</th>\n",
       "      <th>store_id</th>\n",
       "      <th>quantity</th>\n",
       "      <th>price</th>\n",
       "    </tr>\n",
       "  </thead>\n",
       "  <tbody>\n",
       "    <tr>\n",
       "      <th>0</th>\n",
       "      <td>1</td>\n",
       "      <td>52</td>\n",
       "      <td>2</td>\n",
       "      <td>1988-05-19</td>\n",
       "      <td>3</td>\n",
       "      <td>2</td>\n",
       "      <td>92.48</td>\n",
       "    </tr>\n",
       "    <tr>\n",
       "      <th>1</th>\n",
       "      <td>2</td>\n",
       "      <td>70</td>\n",
       "      <td>4</td>\n",
       "      <td>1997-03-07</td>\n",
       "      <td>2</td>\n",
       "      <td>1</td>\n",
       "      <td>33.01</td>\n",
       "    </tr>\n",
       "    <tr>\n",
       "      <th>2</th>\n",
       "      <td>3</td>\n",
       "      <td>30</td>\n",
       "      <td>1</td>\n",
       "      <td>1985-07-31</td>\n",
       "      <td>4</td>\n",
       "      <td>3</td>\n",
       "      <td>17.35</td>\n",
       "    </tr>\n",
       "    <tr>\n",
       "      <th>3</th>\n",
       "      <td>4</td>\n",
       "      <td>475</td>\n",
       "      <td>7</td>\n",
       "      <td>2011-04-30</td>\n",
       "      <td>1</td>\n",
       "      <td>2</td>\n",
       "      <td>42.86</td>\n",
       "    </tr>\n",
       "    <tr>\n",
       "      <th>4</th>\n",
       "      <td>5</td>\n",
       "      <td>409</td>\n",
       "      <td>3</td>\n",
       "      <td>1981-06-19</td>\n",
       "      <td>3</td>\n",
       "      <td>3</td>\n",
       "      <td>69.05</td>\n",
       "    </tr>\n",
       "    <tr>\n",
       "      <th>...</th>\n",
       "      <td>...</td>\n",
       "      <td>...</td>\n",
       "      <td>...</td>\n",
       "      <td>...</td>\n",
       "      <td>...</td>\n",
       "      <td>...</td>\n",
       "      <td>...</td>\n",
       "    </tr>\n",
       "    <tr>\n",
       "      <th>995</th>\n",
       "      <td>996</td>\n",
       "      <td>45</td>\n",
       "      <td>2</td>\n",
       "      <td>2015-11-16</td>\n",
       "      <td>4</td>\n",
       "      <td>2</td>\n",
       "      <td>92.48</td>\n",
       "    </tr>\n",
       "    <tr>\n",
       "      <th>996</th>\n",
       "      <td>997</td>\n",
       "      <td>409</td>\n",
       "      <td>9</td>\n",
       "      <td>2016-01-09</td>\n",
       "      <td>1</td>\n",
       "      <td>2</td>\n",
       "      <td>21.26</td>\n",
       "    </tr>\n",
       "    <tr>\n",
       "      <th>997</th>\n",
       "      <td>998</td>\n",
       "      <td>40</td>\n",
       "      <td>1</td>\n",
       "      <td>1970-10-07</td>\n",
       "      <td>1</td>\n",
       "      <td>1</td>\n",
       "      <td>17.35</td>\n",
       "    </tr>\n",
       "    <tr>\n",
       "      <th>998</th>\n",
       "      <td>999</td>\n",
       "      <td>87</td>\n",
       "      <td>7</td>\n",
       "      <td>2022-03-15</td>\n",
       "      <td>3</td>\n",
       "      <td>2</td>\n",
       "      <td>42.86</td>\n",
       "    </tr>\n",
       "    <tr>\n",
       "      <th>999</th>\n",
       "      <td>1000</td>\n",
       "      <td>208</td>\n",
       "      <td>7</td>\n",
       "      <td>1983-03-04</td>\n",
       "      <td>4</td>\n",
       "      <td>1</td>\n",
       "      <td>42.86</td>\n",
       "    </tr>\n",
       "  </tbody>\n",
       "</table>\n",
       "<p>1000 rows × 7 columns</p>\n",
       "</div>"
      ]
     },
     "execution_count": 74,
     "metadata": {},
     "output_type": "execute_result"
    }
   ],
   "execution_count": 74
  },
  {
   "metadata": {},
   "cell_type": "code",
   "source": "products_df\n",
   "id": "ff71027f21bd8939",
   "outputs": [],
   "execution_count": null
  }
 ],
 "metadata": {
  "kernelspec": {
   "name": "python3",
   "language": "python",
   "display_name": "Python 3 (ipykernel)"
  }
 },
 "nbformat": 4,
 "nbformat_minor": 5
}
