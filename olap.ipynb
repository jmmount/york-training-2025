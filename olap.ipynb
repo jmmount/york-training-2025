{
 "cells": [
  {
   "metadata": {},
   "cell_type": "markdown",
   "source": "#### In order to convert the csv files to DataFrames",
   "id": "4dcb6bba1f384bdf"
  },
  {
   "metadata": {},
   "cell_type": "code",
   "source": [
    "import pandas as pd\n",
    "import numpy as np\n",
    "\n",
    "customers_df = pd.read_csv('./data/raw/customers.csv')\n",
    "customers_df.head(5)"
   ],
   "id": "3e70940137f8514b",
   "outputs": [],
   "execution_count": null
  },
  {
   "metadata": {},
   "cell_type": "code",
   "source": [
    "orders_df = pd.read_csv('./data/raw/orders.csv')\n",
    "orders_df.head(5)"
   ],
   "id": "e8cf917d8a04b8ca",
   "outputs": [],
   "execution_count": null
  },
  {
   "metadata": {},
   "cell_type": "code",
   "source": [
    "products_df = pd.read_csv('./data/raw/products.csv')\n",
    "products_df.head(5)"
   ],
   "id": "a7242a1508c193cb",
   "outputs": [],
   "execution_count": null
  },
  {
   "metadata": {},
   "cell_type": "markdown",
   "source": "#### In order to clean the null values from the customers table",
   "id": "e2c0bef525aae969"
  },
  {
   "metadata": {},
   "cell_type": "code",
   "source": [
    "# In order to confirm NULL values\n",
    "print(customers_df[customers_df['name'].isna()])"
   ],
   "id": "bd9140cd86cdcd78",
   "outputs": [],
   "execution_count": null
  },
  {
   "metadata": {},
   "cell_type": "code",
   "source": [
    "# In order to replace NULL values in the name column\n",
    "customers_df['name'] = np.where(customers_df['name'].isna(), 'Guest', customers_df['name'])"
   ],
   "id": "74871f9d35fc51a0",
   "outputs": [],
   "execution_count": null
  },
  {
   "metadata": {},
   "cell_type": "code",
   "source": [
    "# In order to check that the data was transformed\n",
    "guest_check = customers_df[customers_df['name'] == 'Guest']\n",
    "guest_check"
   ],
   "id": "3cf95a8ab68e2b54",
   "outputs": [],
   "execution_count": null
  },
  {
   "metadata": {},
   "cell_type": "code",
   "source": [
    "# In order to confirm NULL values\n",
    "print(customers_df[customers_df['email'].isna()])"
   ],
   "id": "60ba4ae85889bac9",
   "outputs": [],
   "execution_count": null
  },
  {
   "metadata": {},
   "cell_type": "code",
   "source": [
    "# In order to replace NULL values in the email column\n",
    "customers_df['email'] = np.where(customers_df['email'].isna(), 'none_provided', customers_df['email'])\n",
    "provision_check = customers_df[customers_df['email'] == 'none_provided']\n",
    "provision_check"
   ],
   "id": "5726a8e76bd59120",
   "outputs": [],
   "execution_count": null
  },
  {
   "metadata": {},
   "cell_type": "markdown",
   "source": "#### In order to clean the bad dates from the order table",
   "id": "d4de2ee71e5cbb5b"
  },
  {
   "metadata": {},
   "cell_type": "code",
   "source": [
    "# In order to check non-date values in 'order_date'\n",
    "convert = pd.to_datetime(orders_df['order_date'], errors='coerce')\n",
    "bad_dates = orders_df[convert.isna()]\n",
    "bad_dates"
   ],
   "id": "200fc2b122170935",
   "outputs": [],
   "execution_count": null
  },
  {
   "metadata": {},
   "cell_type": "code",
   "source": [
    "# In order to replace 'not_a_date\" and integer values and convert them to datetime\n",
    "orders_df['order_date'] = orders_df['order_date'].replace('not_a_date', '1900-01-01')\n",
    "orders_df['order_date'] = orders_df['order_date'].replace(20002, '2002-01-01')\n",
    "orders_df['order_date'] = pd.to_datetime(orders_df['order_date'], errors='coerce')\n",
    "\n",
    "null_check = orders_df['order_date'].isna().sum\n",
    "null_check"
   ],
   "id": "a90575f77bb816cc",
   "outputs": [],
   "execution_count": null
  },
  {
   "metadata": {},
   "cell_type": "markdown",
   "source": "#### In order to create the dimension tables",
   "id": "ef090e605d4caf0b"
  },
  {
   "metadata": {},
   "cell_type": "code",
   "source": "products_df",
   "id": "3ccff1bdf47e6b93",
   "outputs": [],
   "execution_count": null
  },
  {
   "metadata": {},
   "cell_type": "code",
   "source": [
    "# customer_dim\n",
    "customers_df"
   ],
   "id": "775be1ee82801ced",
   "outputs": [],
   "execution_count": null
  },
  {
   "metadata": {},
   "cell_type": "code",
   "source": [
    "# product_category_dim\n",
    "product_cat_df = pd.DataFrame({'product_category': products_df['product_category'].drop_duplicates()})\n",
    "product_cat_df"
   ],
   "id": "c730878c69c0641d",
   "outputs": [],
   "execution_count": null
  },
  {
   "metadata": {},
   "cell_type": "code",
   "source": [
    "# store_dim\n",
    "store_df = pd.DataFrame({'store_id': orders_df['store_id'].drop_duplicates()})\n",
    "store_df"
   ],
   "id": "b3f7fb977eea7462",
   "outputs": [],
   "execution_count": null
  },
  {
   "metadata": {},
   "cell_type": "code",
   "source": [
    "store_name = {1: 'nyc_store', 2: 'tampa_store', 3: 'seattle_store', 4: 'chicago_store'}\n",
    "store_region = {1: 'East', 2: 'South', 3: 'West', 4: 'Midwest'}\n",
    "\n",
    "store_df['store_name'] = store_df['store_id'].map(store_name)\n",
    "store_df['store_region'] = store_df['store_id'].map(store_region)\n",
    "store_df"
   ],
   "id": "20047e293a6f4938",
   "outputs": [],
   "execution_count": null
  },
  {
   "metadata": {},
   "cell_type": "code",
   "source": [
    "# product_dim\n",
    "product_df = products_df.drop(columns=['price'])\n",
    "product_df"
   ],
   "id": "c9391d6b7da1ea6e",
   "outputs": [],
   "execution_count": null
  },
  {
   "metadata": {},
   "cell_type": "code",
   "source": "",
   "id": "aa77b13bc278f220",
   "outputs": [],
   "execution_count": null
  }
 ],
 "metadata": {
  "kernelspec": {
   "name": "python3",
   "language": "python",
   "display_name": "Python 3 (ipykernel)"
  }
 },
 "nbformat": 4,
 "nbformat_minor": 5
}
